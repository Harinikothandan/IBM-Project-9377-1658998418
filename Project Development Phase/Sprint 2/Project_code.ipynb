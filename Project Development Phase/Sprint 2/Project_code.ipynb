{
  "nbformat": 4,
  "nbformat_minor": 0,
  "metadata": {
    "colab": {
      "provenance": []
    },
    "kernelspec": {
      "name": "python3",
      "display_name": "Python 3"
    },
    "language_info": {
      "name": "python"
    }
  },
  "cells": [
    {
      "cell_type": "code",
      "execution_count": 4,
      "metadata": {
        "id": "Awy-VmJrybKV"
      },
      "outputs": [],
      "source": [
        "import pandas as pd\n",
        "import matplotlib.pyplot as plt\n",
        "import numpy as np\n",
        "import seaborn as sns"
      ]
    },
    {
      "cell_type": "code",
      "source": [
        "df = pd.read_csv(\"/content/new_dataset.csv\")"
      ],
      "metadata": {
        "id": "29jN6ZZ_zXUy"
      },
      "execution_count": 5,
      "outputs": []
    },
    {
      "cell_type": "code",
      "source": [
        "df.head()"
      ],
      "metadata": {
        "colab": {
          "base_uri": "https://localhost:8080/",
          "height": 206
        },
        "id": "dA7L7_ZNzYCn",
        "outputId": "ba564da9-0de0-4259-ff44-34abb6eed2ec"
      },
      "execution_count": 6,
      "outputs": [
        {
          "output_type": "execute_result",
          "data": {
            "text/plain": [
              "   Unnamed: 0 COMMUNITY  RANK  COM.RANK  AGGR MARK  COLLEGE CODE BRANCH CODE\n",
              "0           1        BC     5       3.0     200.00             1          CS\n",
              "1           2        SC     7       1.0     200.00             1          CS\n",
              "2           3        BC     8       4.0     200.00             1          CS\n",
              "3           4        BC    10       6.0     200.00             1          EC\n",
              "4           6        OC    12       8.0     199.75             1          EE"
            ],
            "text/html": [
              "\n",
              "  <div id=\"df-d17e75c3-3be8-4950-9f59-ce617e662440\">\n",
              "    <div class=\"colab-df-container\">\n",
              "      <div>\n",
              "<style scoped>\n",
              "    .dataframe tbody tr th:only-of-type {\n",
              "        vertical-align: middle;\n",
              "    }\n",
              "\n",
              "    .dataframe tbody tr th {\n",
              "        vertical-align: top;\n",
              "    }\n",
              "\n",
              "    .dataframe thead th {\n",
              "        text-align: right;\n",
              "    }\n",
              "</style>\n",
              "<table border=\"1\" class=\"dataframe\">\n",
              "  <thead>\n",
              "    <tr style=\"text-align: right;\">\n",
              "      <th></th>\n",
              "      <th>Unnamed: 0</th>\n",
              "      <th>COMMUNITY</th>\n",
              "      <th>RANK</th>\n",
              "      <th>COM.RANK</th>\n",
              "      <th>AGGR MARK</th>\n",
              "      <th>COLLEGE CODE</th>\n",
              "      <th>BRANCH CODE</th>\n",
              "    </tr>\n",
              "  </thead>\n",
              "  <tbody>\n",
              "    <tr>\n",
              "      <th>0</th>\n",
              "      <td>1</td>\n",
              "      <td>BC</td>\n",
              "      <td>5</td>\n",
              "      <td>3.0</td>\n",
              "      <td>200.00</td>\n",
              "      <td>1</td>\n",
              "      <td>CS</td>\n",
              "    </tr>\n",
              "    <tr>\n",
              "      <th>1</th>\n",
              "      <td>2</td>\n",
              "      <td>SC</td>\n",
              "      <td>7</td>\n",
              "      <td>1.0</td>\n",
              "      <td>200.00</td>\n",
              "      <td>1</td>\n",
              "      <td>CS</td>\n",
              "    </tr>\n",
              "    <tr>\n",
              "      <th>2</th>\n",
              "      <td>3</td>\n",
              "      <td>BC</td>\n",
              "      <td>8</td>\n",
              "      <td>4.0</td>\n",
              "      <td>200.00</td>\n",
              "      <td>1</td>\n",
              "      <td>CS</td>\n",
              "    </tr>\n",
              "    <tr>\n",
              "      <th>3</th>\n",
              "      <td>4</td>\n",
              "      <td>BC</td>\n",
              "      <td>10</td>\n",
              "      <td>6.0</td>\n",
              "      <td>200.00</td>\n",
              "      <td>1</td>\n",
              "      <td>EC</td>\n",
              "    </tr>\n",
              "    <tr>\n",
              "      <th>4</th>\n",
              "      <td>6</td>\n",
              "      <td>OC</td>\n",
              "      <td>12</td>\n",
              "      <td>8.0</td>\n",
              "      <td>199.75</td>\n",
              "      <td>1</td>\n",
              "      <td>EE</td>\n",
              "    </tr>\n",
              "  </tbody>\n",
              "</table>\n",
              "</div>\n",
              "      <button class=\"colab-df-convert\" onclick=\"convertToInteractive('df-d17e75c3-3be8-4950-9f59-ce617e662440')\"\n",
              "              title=\"Convert this dataframe to an interactive table.\"\n",
              "              style=\"display:none;\">\n",
              "        \n",
              "  <svg xmlns=\"http://www.w3.org/2000/svg\" height=\"24px\"viewBox=\"0 0 24 24\"\n",
              "       width=\"24px\">\n",
              "    <path d=\"M0 0h24v24H0V0z\" fill=\"none\"/>\n",
              "    <path d=\"M18.56 5.44l.94 2.06.94-2.06 2.06-.94-2.06-.94-.94-2.06-.94 2.06-2.06.94zm-11 1L8.5 8.5l.94-2.06 2.06-.94-2.06-.94L8.5 2.5l-.94 2.06-2.06.94zm10 10l.94 2.06.94-2.06 2.06-.94-2.06-.94-.94-2.06-.94 2.06-2.06.94z\"/><path d=\"M17.41 7.96l-1.37-1.37c-.4-.4-.92-.59-1.43-.59-.52 0-1.04.2-1.43.59L10.3 9.45l-7.72 7.72c-.78.78-.78 2.05 0 2.83L4 21.41c.39.39.9.59 1.41.59.51 0 1.02-.2 1.41-.59l7.78-7.78 2.81-2.81c.8-.78.8-2.07 0-2.86zM5.41 20L4 18.59l7.72-7.72 1.47 1.35L5.41 20z\"/>\n",
              "  </svg>\n",
              "      </button>\n",
              "      \n",
              "  <style>\n",
              "    .colab-df-container {\n",
              "      display:flex;\n",
              "      flex-wrap:wrap;\n",
              "      gap: 12px;\n",
              "    }\n",
              "\n",
              "    .colab-df-convert {\n",
              "      background-color: #E8F0FE;\n",
              "      border: none;\n",
              "      border-radius: 50%;\n",
              "      cursor: pointer;\n",
              "      display: none;\n",
              "      fill: #1967D2;\n",
              "      height: 32px;\n",
              "      padding: 0 0 0 0;\n",
              "      width: 32px;\n",
              "    }\n",
              "\n",
              "    .colab-df-convert:hover {\n",
              "      background-color: #E2EBFA;\n",
              "      box-shadow: 0px 1px 2px rgba(60, 64, 67, 0.3), 0px 1px 3px 1px rgba(60, 64, 67, 0.15);\n",
              "      fill: #174EA6;\n",
              "    }\n",
              "\n",
              "    [theme=dark] .colab-df-convert {\n",
              "      background-color: #3B4455;\n",
              "      fill: #D2E3FC;\n",
              "    }\n",
              "\n",
              "    [theme=dark] .colab-df-convert:hover {\n",
              "      background-color: #434B5C;\n",
              "      box-shadow: 0px 1px 3px 1px rgba(0, 0, 0, 0.15);\n",
              "      filter: drop-shadow(0px 1px 2px rgba(0, 0, 0, 0.3));\n",
              "      fill: #FFFFFF;\n",
              "    }\n",
              "  </style>\n",
              "\n",
              "      <script>\n",
              "        const buttonEl =\n",
              "          document.querySelector('#df-d17e75c3-3be8-4950-9f59-ce617e662440 button.colab-df-convert');\n",
              "        buttonEl.style.display =\n",
              "          google.colab.kernel.accessAllowed ? 'block' : 'none';\n",
              "\n",
              "        async function convertToInteractive(key) {\n",
              "          const element = document.querySelector('#df-d17e75c3-3be8-4950-9f59-ce617e662440');\n",
              "          const dataTable =\n",
              "            await google.colab.kernel.invokeFunction('convertToInteractive',\n",
              "                                                     [key], {});\n",
              "          if (!dataTable) return;\n",
              "\n",
              "          const docLinkHtml = 'Like what you see? Visit the ' +\n",
              "            '<a target=\"_blank\" href=https://colab.research.google.com/notebooks/data_table.ipynb>data table notebook</a>'\n",
              "            + ' to learn more about interactive tables.';\n",
              "          element.innerHTML = '';\n",
              "          dataTable['output_type'] = 'display_data';\n",
              "          await google.colab.output.renderOutput(dataTable, element);\n",
              "          const docLink = document.createElement('div');\n",
              "          docLink.innerHTML = docLinkHtml;\n",
              "          element.appendChild(docLink);\n",
              "        }\n",
              "      </script>\n",
              "    </div>\n",
              "  </div>\n",
              "  "
            ]
          },
          "metadata": {},
          "execution_count": 6
        }
      ]
    },
    {
      "cell_type": "markdown",
      "source": [
        "##Data Preprocessing"
      ],
      "metadata": {
        "id": "RSCNk2h57i-D"
      }
    },
    {
      "cell_type": "code",
      "source": [
        "df = df.drop(['Unnamed: 0'],axis=1)\n",
        "df = df.drop(['BRANCH CODE'],axis=1)\n",
        "dfc1 = df.loc[df['COLLEGE CODE'] == 1]\n",
        "dfc2 = df.loc[df['COLLEGE CODE'] == 0]\n",
        "dfc2 = dfc2.sample(frac = 1)\n",
        "dfc2 = dfc2.head(4500)\n",
        "df = pd.concat([dfc1,dfc2], axis=0)\n",
        "df = df.sample(frac = 1)\n",
        "community = {'BC':1,'SC':2,'OC':3,'BCM':4,'MBC':5,'SCA':6,'ST':7,'MBC/DNC':5,'MBCV':5,'MBCDNC':5}\n",
        "df.COMMUNITY = [community[item] for item in df.COMMUNITY]\n",
        "dfs = df.sort_values(['RANK','AGGR MARK'],ascending=[True,False])"
      ],
      "metadata": {
        "id": "aINIsZPGzbbo"
      },
      "execution_count": 7,
      "outputs": []
    },
    {
      "cell_type": "code",
      "source": [
        "print(df.isnull().sum())"
      ],
      "metadata": {
        "colab": {
          "base_uri": "https://localhost:8080/"
        },
        "id": "tKdFKKAJ7g5x",
        "outputId": "d09e9ce1-f2f7-49a2-e536-078bba79a0ac"
      },
      "execution_count": 51,
      "outputs": [
        {
          "output_type": "stream",
          "name": "stdout",
          "text": [
            "COMMUNITY       0\n",
            "RANK            0\n",
            "COM.RANK        0\n",
            "AGGR MARK       0\n",
            "COLLEGE CODE    0\n",
            "dtype: int64\n"
          ]
        }
      ]
    },
    {
      "cell_type": "code",
      "source": [
        "print(df.corr())"
      ],
      "metadata": {
        "colab": {
          "base_uri": "https://localhost:8080/"
        },
        "id": "EuUeJVmt7gwq",
        "outputId": "d3dbbf13-c3f7-4b97-9d28-95fc0bd537f0"
      },
      "execution_count": 52,
      "outputs": [
        {
          "output_type": "stream",
          "name": "stdout",
          "text": [
            "              COMMUNITY      RANK  COM.RANK  AGGR MARK  COLLEGE CODE\n",
            "COMMUNITY      1.000000  0.036828 -0.072574  -0.037201      0.094713\n",
            "RANK           0.036828  1.000000  0.181917  -0.777396     -0.538563\n",
            "COM.RANK      -0.072574  0.181917  1.000000  -0.134598     -0.141082\n",
            "AGGR MARK     -0.037201 -0.777396 -0.134598   1.000000      0.478241\n",
            "COLLEGE CODE   0.094713 -0.538563 -0.141082   0.478241      1.000000\n"
          ]
        }
      ]
    },
    {
      "cell_type": "code",
      "source": [
        "print(df.info())"
      ],
      "metadata": {
        "colab": {
          "base_uri": "https://localhost:8080/"
        },
        "id": "V0G7ng3p7v_d",
        "outputId": "ff24f1af-921e-4d76-c384-565ab926cf65"
      },
      "execution_count": 53,
      "outputs": [
        {
          "output_type": "stream",
          "name": "stdout",
          "text": [
            "<class 'pandas.core.frame.DataFrame'>\n",
            "Int64Index: 9306 entries, 7003 to 54450\n",
            "Data columns (total 5 columns):\n",
            " #   Column        Non-Null Count  Dtype  \n",
            "---  ------        --------------  -----  \n",
            " 0   COMMUNITY     9306 non-null   int64  \n",
            " 1   RANK          9306 non-null   int64  \n",
            " 2   COM.RANK      9306 non-null   float64\n",
            " 3   AGGR MARK     9306 non-null   float64\n",
            " 4   COLLEGE CODE  9306 non-null   int64  \n",
            "dtypes: float64(2), int64(3)\n",
            "memory usage: 436.2 KB\n",
            "None\n"
          ]
        }
      ]
    },
    {
      "cell_type": "code",
      "source": [
        "print(df.describe())"
      ],
      "metadata": {
        "colab": {
          "base_uri": "https://localhost:8080/"
        },
        "id": "878QMh9Z70Ei",
        "outputId": "281a8cc4-7df4-4ba5-c3a7-30fb4662998c"
      },
      "execution_count": 54,
      "outputs": [
        {
          "output_type": "stream",
          "name": "stdout",
          "text": [
            "         COMMUNITY          RANK       COM.RANK    AGGR MARK  COLLEGE CODE\n",
            "count  9306.000000   9306.000000    9306.000000  9306.000000   9306.000000\n",
            "mean      2.363099   8532.939286    5008.342688   188.446392      0.516441\n",
            "std       1.729974   8583.757667    7875.804664     8.173411      0.499756\n",
            "min       1.000000      1.000000       1.000000   151.500000      0.000000\n",
            "25%       1.000000   1420.250000    2562.500000   183.762500      0.000000\n",
            "50%       1.000000   5692.000000    5905.195401   190.000000      1.000000\n",
            "75%       4.000000  13297.250000    5905.195401   194.500000      1.000000\n",
            "max       7.000000  44774.000000  564925.000000   200.000000      1.000000\n"
          ]
        }
      ]
    },
    {
      "cell_type": "markdown",
      "source": [
        "##Data Visualization"
      ],
      "metadata": {
        "id": "w8nsR0pI78k0"
      }
    },
    {
      "cell_type": "code",
      "source": [
        "sns.barplot(df[\"AGGR MARK\"],df[\"COM.RANK\"])"
      ],
      "metadata": {
        "colab": {
          "base_uri": "https://localhost:8080/",
          "height": 351
        },
        "id": "14_LiV6470sA",
        "outputId": "f1aa15c9-d3e3-4af7-d9cd-369a95191750"
      },
      "execution_count": 59,
      "outputs": [
        {
          "output_type": "stream",
          "name": "stderr",
          "text": [
            "/usr/local/lib/python3.7/dist-packages/seaborn/_decorators.py:43: FutureWarning: Pass the following variables as keyword args: x, y. From version 0.12, the only valid positional argument will be `data`, and passing other arguments without an explicit keyword will result in an error or misinterpretation.\n",
            "  FutureWarning\n"
          ]
        },
        {
          "output_type": "execute_result",
          "data": {
            "text/plain": [
              "<matplotlib.axes._subplots.AxesSubplot at 0x7f01bd9f0d10>"
            ]
          },
          "metadata": {},
          "execution_count": 59
        },
        {
          "output_type": "display_data",
          "data": {
            "text/plain": [
              "<Figure size 432x288 with 1 Axes>"
            ],
            "image/png": "[encoded data removed]"
          },
          "metadata": {
            "needs_background": "light"
          }
        }
      ]
    },
    {
      "cell_type": "code",
      "source": [
        "sns.barplot(df[\"RANK\"],df[\"AGGR MARK\"])"
      ],
      "metadata": {
        "colab": {
          "base_uri": "https://localhost:8080/",
          "height": 351
        },
        "id": "otYAJFUl70pm",
        "outputId": "27f70ed6-e682-411d-bf2b-b8a311ddd176"
      },
      "execution_count": 58,
      "outputs": [
        {
          "output_type": "stream",
          "name": "stderr",
          "text": [
            "/usr/local/lib/python3.7/dist-packages/seaborn/_decorators.py:43: FutureWarning: Pass the following variables as keyword args: x, y. From version 0.12, the only valid positional argument will be `data`, and passing other arguments without an explicit keyword will result in an error or misinterpretation.\n",
            "  FutureWarning\n"
          ]
        },
        {
          "output_type": "execute_result",
          "data": {
            "text/plain": [
              "<matplotlib.axes._subplots.AxesSubplot at 0x7f01cd16add0>"
            ]
          },
          "metadata": {},
          "execution_count": 58
        },
        {
          "output_type": "display_data",
          "data": {
            "text/plain": [
              "<Figure size 432x288 with 1 Axes>"
            ],
            "image/png": "[encoded data removed]"
          },
          "metadata": {
            "needs_background": "light"
          }
        }
      ]
    },
    {
      "cell_type": "code",
      "source": [
        "plt.scatter(df['RANK'],df['AGGR MARK'])\n",
        "plt.title('AGGR MARK vs RANK')\n",
        "plt.xlabel('RANK')\n",
        "plt.ylabel('AGGR MARK')\n",
        "plt.show()"
      ],
      "metadata": {
        "colab": {
          "base_uri": "https://localhost:8080/",
          "height": 295
        },
        "id": "IV3fyCae8mnJ",
        "outputId": "7dc0a5bc-dab8-40b5-90bd-f74f709815d4"
      },
      "execution_count": 57,
      "outputs": [
        {
          "output_type": "display_data",
          "data": {
            "text/plain": [
              "<Figure size 432x288 with 1 Axes>"
            ],
            "image/png": "[encoded data removed]"
          },
          "metadata": {
            "needs_background": "light"
          }
        }
      ]
    },
    {
      "cell_type": "code",
      "source": [
        "plt.scatter(df['AGGR MARK'],df['COM.RANK'])\n",
        "plt.title('COM.RANK for AGGR MARK')\n",
        "plt.xlabel('AGGR MARK')\n",
        "plt.ylabel('COM.RANK')\n",
        "plt.show()"
      ],
      "metadata": {
        "colab": {
          "base_uri": "https://localhost:8080/",
          "height": 295
        },
        "id": "DqwbcbF28mkW",
        "outputId": "cb2cc6d7-7d54-45c0-f604-ede0432f1b07"
      },
      "execution_count": 60,
      "outputs": [
        {
          "output_type": "display_data",
          "data": {
            "text/plain": [
              "<Figure size 432x288 with 1 Axes>"
            ],
            "image/png": "[encoded data removed]"
          },
          "metadata": {
            "needs_background": "light"
          }
        }
      ]
    },
    {
      "cell_type": "code",
      "source": [
        "plt.figure(figsize=(10, 10))\n",
        "sns.heatmap(df.corr(), annot=True, linewidths=0.05, fmt= '.2f',cmap=\"magma\")\n",
        "plt.show()"
      ],
      "metadata": {
        "colab": {
          "base_uri": "https://localhost:8080/",
          "height": 595
        },
        "id": "1ylZhjyU8mhy",
        "outputId": "955db193-fab8-46c4-c305-ce61aae22fe2"
      },
      "execution_count": 61,
      "outputs": [
        {
          "output_type": "display_data",
          "data": {
            "text/plain": [
              "<Figure size 720x720 with 2 Axes>"
            ],
            "image/png": "[encoded data removed]"
          },
          "metadata": {
            "needs_background": "light"
          }
        }
      ]
    },
    {
      "cell_type": "code",
      "source": [
        "sns.countplot(x=\"COMMUNITY\",data=df)"
      ],
      "metadata": {
        "colab": {
          "base_uri": "https://localhost:8080/",
          "height": 296
        },
        "id": "zuZogU5d9pK9",
        "outputId": "d025e3bd-03b6-458c-f848-8fd81f91d815"
      },
      "execution_count": 62,
      "outputs": [
        {
          "output_type": "execute_result",
          "data": {
            "text/plain": [
              "<matplotlib.axes._subplots.AxesSubplot at 0x7f01ba78f210>"
            ]
          },
          "metadata": {},
          "execution_count": 62
        },
        {
          "output_type": "display_data",
          "data": {
            "text/plain": [
              "<Figure size 432x288 with 1 Axes>"
            ],
            "image/png": "[encoded data removed]"
          },
          "metadata": {
            "needs_background": "light"
          }
        }
      ]
    },
    {
      "cell_type": "markdown",
      "source": [
        "##Data Transformation"
      ],
      "metadata": {
        "id": "wkwBAVq3-Fz-"
      }
    },
    {
      "cell_type": "code",
      "source": [
        "x = dfs.drop(['COLLEGE CODE'],axis=1)\n",
        "x"
      ],
      "metadata": {
        "colab": {
          "base_uri": "https://localhost:8080/",
          "height": 424
        },
        "id": "aJw0_9oS2egu",
        "outputId": "aea2fe7e-9e38-4484-9e33-0698c9b0abcc"
      },
      "execution_count": 34,
      "outputs": [
        {
          "output_type": "execute_result",
          "data": {
            "text/plain": [
              "       COMMUNITY   RANK     COM.RANK  AGGR MARK\n",
              "40279          5      1  5905.195401   200.0000\n",
              "19109          1      1     1.000000   200.0000\n",
              "63491          1      1  5905.195401   200.0000\n",
              "26049          1      1  5905.195401   199.6667\n",
              "26050          3      2  5905.195401   199.6667\n",
              "...          ...    ...          ...        ...\n",
              "50491          7  43295  5905.195401   174.6350\n",
              "63403          1  43300  5905.195401   174.6350\n",
              "63445          1  43355  5905.195401   174.6050\n",
              "63462          1  44763  5905.195401   174.1200\n",
              "50492          6  44774  5905.195401   174.1200\n",
              "\n",
              "[9306 rows x 4 columns]"
            ],
            "text/html": [
              "\n",
              "  <div id=\"df-4dd029eb-3525-4ebc-80f8-fdbeb4a24ac0\">\n",
              "    <div class=\"colab-df-container\">\n",
              "      <div>\n",
              "<style scoped>\n",
              "    .dataframe tbody tr th:only-of-type {\n",
              "        vertical-align: middle;\n",
              "    }\n",
              "\n",
              "    .dataframe tbody tr th {\n",
              "        vertical-align: top;\n",
              "    }\n",
              "\n",
              "    .dataframe thead th {\n",
              "        text-align: right;\n",
              "    }\n",
              "</style>\n",
              "<table border=\"1\" class=\"dataframe\">\n",
              "  <thead>\n",
              "    <tr style=\"text-align: right;\">\n",
              "      <th></th>\n",
              "      <th>COMMUNITY</th>\n",
              "      <th>RANK</th>\n",
              "      <th>COM.RANK</th>\n",
              "      <th>AGGR MARK</th>\n",
              "    </tr>\n",
              "  </thead>\n",
              "  <tbody>\n",
              "    <tr>\n",
              "      <th>40279</th>\n",
              "      <td>5</td>\n",
              "      <td>1</td>\n",
              "      <td>5905.195401</td>\n",
              "      <td>200.0000</td>\n",
              "    </tr>\n",
              "    <tr>\n",
              "      <th>19109</th>\n",
              "      <td>1</td>\n",
              "      <td>1</td>\n",
              "      <td>1.000000</td>\n",
              "      <td>200.0000</td>\n",
              "    </tr>\n",
              "    <tr>\n",
              "      <th>63491</th>\n",
              "      <td>1</td>\n",
              "      <td>1</td>\n",
              "      <td>5905.195401</td>\n",
              "      <td>200.0000</td>\n",
              "    </tr>\n",
              "    <tr>\n",
              "      <th>26049</th>\n",
              "      <td>1</td>\n",
              "      <td>1</td>\n",
              "      <td>5905.195401</td>\n",
              "      <td>199.6667</td>\n",
              "    </tr>\n",
              "    <tr>\n",
              "      <th>26050</th>\n",
              "      <td>3</td>\n",
              "      <td>2</td>\n",
              "      <td>5905.195401</td>\n",
              "      <td>199.6667</td>\n",
              "    </tr>\n",
              "    <tr>\n",
              "      <th>...</th>\n",
              "      <td>...</td>\n",
              "      <td>...</td>\n",
              "      <td>...</td>\n",
              "      <td>...</td>\n",
              "    </tr>\n",
              "    <tr>\n",
              "      <th>50491</th>\n",
              "      <td>7</td>\n",
              "      <td>43295</td>\n",
              "      <td>5905.195401</td>\n",
              "      <td>174.6350</td>\n",
              "    </tr>\n",
              "    <tr>\n",
              "      <th>63403</th>\n",
              "      <td>1</td>\n",
              "      <td>43300</td>\n",
              "      <td>5905.195401</td>\n",
              "      <td>174.6350</td>\n",
              "    </tr>\n",
              "    <tr>\n",
              "      <th>63445</th>\n",
              "      <td>1</td>\n",
              "      <td>43355</td>\n",
              "      <td>5905.195401</td>\n",
              "      <td>174.6050</td>\n",
              "    </tr>\n",
              "    <tr>\n",
              "      <th>63462</th>\n",
              "      <td>1</td>\n",
              "      <td>44763</td>\n",
              "      <td>5905.195401</td>\n",
              "      <td>174.1200</td>\n",
              "    </tr>\n",
              "    <tr>\n",
              "      <th>50492</th>\n",
              "      <td>6</td>\n",
              "      <td>44774</td>\n",
              "      <td>5905.195401</td>\n",
              "      <td>174.1200</td>\n",
              "    </tr>\n",
              "  </tbody>\n",
              "</table>\n",
              "<p>9306 rows × 4 columns</p>\n",
              "</div>\n",
              "      <button class=\"colab-df-convert\" onclick=\"convertToInteractive('df-4dd029eb-3525-4ebc-80f8-fdbeb4a24ac0')\"\n",
              "              title=\"Convert this dataframe to an interactive table.\"\n",
              "              style=\"display:none;\">\n",
              "        \n",
              "  <svg xmlns=\"http://www.w3.org/2000/svg\" height=\"24px\"viewBox=\"0 0 24 24\"\n",
              "       width=\"24px\">\n",
              "    <path d=\"M0 0h24v24H0V0z\" fill=\"none\"/>\n",
              "    <path d=\"M18.56 5.44l.94 2.06.94-2.06 2.06-.94-2.06-.94-.94-2.06-.94 2.06-2.06.94zm-11 1L8.5 8.5l.94-2.06 2.06-.94-2.06-.94L8.5 2.5l-.94 2.06-2.06.94zm10 10l.94 2.06.94-2.06 2.06-.94-2.06-.94-.94-2.06-.94 2.06-2.06.94z\"/><path d=\"M17.41 7.96l-1.37-1.37c-.4-.4-.92-.59-1.43-.59-.52 0-1.04.2-1.43.59L10.3 9.45l-7.72 7.72c-.78.78-.78 2.05 0 2.83L4 21.41c.39.39.9.59 1.41.59.51 0 1.02-.2 1.41-.59l7.78-7.78 2.81-2.81c.8-.78.8-2.07 0-2.86zM5.41 20L4 18.59l7.72-7.72 1.47 1.35L5.41 20z\"/>\n",
              "  </svg>\n",
              "      </button>\n",
              "      \n",
              "  <style>\n",
              "    .colab-df-container {\n",
              "      display:flex;\n",
              "      flex-wrap:wrap;\n",
              "      gap: 12px;\n",
              "    }\n",
              "\n",
              "    .colab-df-convert {\n",
              "      background-color: #E8F0FE;\n",
              "      border: none;\n",
              "      border-radius: 50%;\n",
              "      cursor: pointer;\n",
              "      display: none;\n",
              "      fill: #1967D2;\n",
              "      height: 32px;\n",
              "      padding: 0 0 0 0;\n",
              "      width: 32px;\n",
              "    }\n",
              "\n",
              "    .colab-df-convert:hover {\n",
              "      background-color: #E2EBFA;\n",
              "      box-shadow: 0px 1px 2px rgba(60, 64, 67, 0.3), 0px 1px 3px 1px rgba(60, 64, 67, 0.15);\n",
              "      fill: #174EA6;\n",
              "    }\n",
              "\n",
              "    [theme=dark] .colab-df-convert {\n",
              "      background-color: #3B4455;\n",
              "      fill: #D2E3FC;\n",
              "    }\n",
              "\n",
              "    [theme=dark] .colab-df-convert:hover {\n",
              "      background-color: #434B5C;\n",
              "      box-shadow: 0px 1px 3px 1px rgba(0, 0, 0, 0.15);\n",
              "      filter: drop-shadow(0px 1px 2px rgba(0, 0, 0, 0.3));\n",
              "      fill: #FFFFFF;\n",
              "    }\n",
              "  </style>\n",
              "\n",
              "      <script>\n",
              "        const buttonEl =\n",
              "          document.querySelector('#df-4dd029eb-3525-4ebc-80f8-fdbeb4a24ac0 button.colab-df-convert');\n",
              "        buttonEl.style.display =\n",
              "          google.colab.kernel.accessAllowed ? 'block' : 'none';\n",
              "\n",
              "        async function convertToInteractive(key) {\n",
              "          const element = document.querySelector('#df-4dd029eb-3525-4ebc-80f8-fdbeb4a24ac0');\n",
              "          const dataTable =\n",
              "            await google.colab.kernel.invokeFunction('convertToInteractive',\n",
              "                                                     [key], {});\n",
              "          if (!dataTable) return;\n",
              "\n",
              "          const docLinkHtml = 'Like what you see? Visit the ' +\n",
              "            '<a target=\"_blank\" href=https://colab.research.google.com/notebooks/data_table.ipynb>data table notebook</a>'\n",
              "            + ' to learn more about interactive tables.';\n",
              "          element.innerHTML = '';\n",
              "          dataTable['output_type'] = 'display_data';\n",
              "          await google.colab.output.renderOutput(dataTable, element);\n",
              "          const docLink = document.createElement('div');\n",
              "          docLink.innerHTML = docLinkHtml;\n",
              "          element.appendChild(docLink);\n",
              "        }\n",
              "      </script>\n",
              "    </div>\n",
              "  </div>\n",
              "  "
            ]
          },
          "metadata": {},
          "execution_count": 34
        }
      ]
    },
    {
      "cell_type": "code",
      "source": [
        "label = dfs['COLLEGE CODE']\n",
        "label"
      ],
      "metadata": {
        "colab": {
          "base_uri": "https://localhost:8080/"
        },
        "id": "zxUiXePB32uV",
        "outputId": "ddbeccdb-7f31-4850-90de-e9c9498e8cce"
      },
      "execution_count": 35,
      "outputs": [
        {
          "output_type": "execute_result",
          "data": {
            "text/plain": [
              "40279    1\n",
              "19109    1\n",
              "63491    1\n",
              "26049    1\n",
              "26050    1\n",
              "        ..\n",
              "50491    1\n",
              "63403    0\n",
              "63445    0\n",
              "63462    0\n",
              "50492    1\n",
              "Name: COLLEGE CODE, Length: 9306, dtype: int64"
            ]
          },
          "metadata": {},
          "execution_count": 35
        }
      ]
    },
    {
      "cell_type": "code",
      "source": [
        "print(x.shape,label.shape)"
      ],
      "metadata": {
        "colab": {
          "base_uri": "https://localhost:8080/"
        },
        "id": "Xb_r32aN-S5c",
        "outputId": "e1107e45-da35-4ee9-8d9e-1ad4cd2c8195"
      },
      "execution_count": 63,
      "outputs": [
        {
          "output_type": "stream",
          "name": "stdout",
          "text": [
            "(9306, 4) (9306,)\n"
          ]
        }
      ]
    },
    {
      "cell_type": "code",
      "source": [
        "from sklearn.model_selection import train_test_split \n",
        "x_train, x_test, y_train, y_test = train_test_split(x, label, test_size=0.15)"
      ],
      "metadata": {
        "id": "gGkxi84X36_H"
      },
      "execution_count": 36,
      "outputs": []
    },
    {
      "cell_type": "code",
      "source": [
        "x_train"
      ],
      "metadata": {
        "colab": {
          "base_uri": "https://localhost:8080/",
          "height": 424
        },
        "id": "_nMp8Olq4DnI",
        "outputId": "19de1dea-1e8d-4f2e-fb3d-94df531bfb11"
      },
      "execution_count": 37,
      "outputs": [
        {
          "output_type": "execute_result",
          "data": {
            "text/plain": [
              "       COMMUNITY   RANK      COM.RANK  AGGR MARK\n",
              "26252          3    462   5905.195401     194.50\n",
              "33151          1  11597   5905.195401     176.00\n",
              "5777           5   8592   1809.000000     191.00\n",
              "40744          1   2004   5905.195401     194.00\n",
              "15466          5  23211   5059.000000     179.75\n",
              "...          ...    ...           ...        ...\n",
              "18641          1  28055  16409.000000     175.50\n",
              "51283          5  15281   5905.195401     185.69\n",
              "3192           3   4345   2710.000000     194.50\n",
              "38789          1  20725   5905.195401     162.50\n",
              "1013           6  10551     33.000000     190.00\n",
              "\n",
              "[7910 rows x 4 columns]"
            ],
            "text/html": [
              "\n",
              "  <div id=\"df-6f29ab39-d967-4f0b-a7b3-1f6c5e3490d0\">\n",
              "    <div class=\"colab-df-container\">\n",
              "      <div>\n",
              "<style scoped>\n",
              "    .dataframe tbody tr th:only-of-type {\n",
              "        vertical-align: middle;\n",
              "    }\n",
              "\n",
              "    .dataframe tbody tr th {\n",
              "        vertical-align: top;\n",
              "    }\n",
              "\n",
              "    .dataframe thead th {\n",
              "        text-align: right;\n",
              "    }\n",
              "</style>\n",
              "<table border=\"1\" class=\"dataframe\">\n",
              "  <thead>\n",
              "    <tr style=\"text-align: right;\">\n",
              "      <th></th>\n",
              "      <th>COMMUNITY</th>\n",
              "      <th>RANK</th>\n",
              "      <th>COM.RANK</th>\n",
              "      <th>AGGR MARK</th>\n",
              "    </tr>\n",
              "  </thead>\n",
              "  <tbody>\n",
              "    <tr>\n",
              "      <th>26252</th>\n",
              "      <td>3</td>\n",
              "      <td>462</td>\n",
              "      <td>5905.195401</td>\n",
              "      <td>194.50</td>\n",
              "    </tr>\n",
              "    <tr>\n",
              "      <th>33151</th>\n",
              "      <td>1</td>\n",
              "      <td>11597</td>\n",
              "      <td>5905.195401</td>\n",
              "      <td>176.00</td>\n",
              "    </tr>\n",
              "    <tr>\n",
              "      <th>5777</th>\n",
              "      <td>5</td>\n",
              "      <td>8592</td>\n",
              "      <td>1809.000000</td>\n",
              "      <td>191.00</td>\n",
              "    </tr>\n",
              "    <tr>\n",
              "      <th>40744</th>\n",
              "      <td>1</td>\n",
              "      <td>2004</td>\n",
              "      <td>5905.195401</td>\n",
              "      <td>194.00</td>\n",
              "    </tr>\n",
              "    <tr>\n",
              "      <th>15466</th>\n",
              "      <td>5</td>\n",
              "      <td>23211</td>\n",
              "      <td>5059.000000</td>\n",
              "      <td>179.75</td>\n",
              "    </tr>\n",
              "    <tr>\n",
              "      <th>...</th>\n",
              "      <td>...</td>\n",
              "      <td>...</td>\n",
              "      <td>...</td>\n",
              "      <td>...</td>\n",
              "    </tr>\n",
              "    <tr>\n",
              "      <th>18641</th>\n",
              "      <td>1</td>\n",
              "      <td>28055</td>\n",
              "      <td>16409.000000</td>\n",
              "      <td>175.50</td>\n",
              "    </tr>\n",
              "    <tr>\n",
              "      <th>51283</th>\n",
              "      <td>5</td>\n",
              "      <td>15281</td>\n",
              "      <td>5905.195401</td>\n",
              "      <td>185.69</td>\n",
              "    </tr>\n",
              "    <tr>\n",
              "      <th>3192</th>\n",
              "      <td>3</td>\n",
              "      <td>4345</td>\n",
              "      <td>2710.000000</td>\n",
              "      <td>194.50</td>\n",
              "    </tr>\n",
              "    <tr>\n",
              "      <th>38789</th>\n",
              "      <td>1</td>\n",
              "      <td>20725</td>\n",
              "      <td>5905.195401</td>\n",
              "      <td>162.50</td>\n",
              "    </tr>\n",
              "    <tr>\n",
              "      <th>1013</th>\n",
              "      <td>6</td>\n",
              "      <td>10551</td>\n",
              "      <td>33.000000</td>\n",
              "      <td>190.00</td>\n",
              "    </tr>\n",
              "  </tbody>\n",
              "</table>\n",
              "<p>7910 rows × 4 columns</p>\n",
              "</div>\n",
              "      <button class=\"colab-df-convert\" onclick=\"convertToInteractive('df-6f29ab39-d967-4f0b-a7b3-1f6c5e3490d0')\"\n",
              "              title=\"Convert this dataframe to an interactive table.\"\n",
              "              style=\"display:none;\">\n",
              "        \n",
              "  <svg xmlns=\"http://www.w3.org/2000/svg\" height=\"24px\"viewBox=\"0 0 24 24\"\n",
              "       width=\"24px\">\n",
              "    <path d=\"M0 0h24v24H0V0z\" fill=\"none\"/>\n",
              "    <path d=\"M18.56 5.44l.94 2.06.94-2.06 2.06-.94-2.06-.94-.94-2.06-.94 2.06-2.06.94zm-11 1L8.5 8.5l.94-2.06 2.06-.94-2.06-.94L8.5 2.5l-.94 2.06-2.06.94zm10 10l.94 2.06.94-2.06 2.06-.94-2.06-.94-.94-2.06-.94 2.06-2.06.94z\"/><path d=\"M17.41 7.96l-1.37-1.37c-.4-.4-.92-.59-1.43-.59-.52 0-1.04.2-1.43.59L10.3 9.45l-7.72 7.72c-.78.78-.78 2.05 0 2.83L4 21.41c.39.39.9.59 1.41.59.51 0 1.02-.2 1.41-.59l7.78-7.78 2.81-2.81c.8-.78.8-2.07 0-2.86zM5.41 20L4 18.59l7.72-7.72 1.47 1.35L5.41 20z\"/>\n",
              "  </svg>\n",
              "      </button>\n",
              "      \n",
              "  <style>\n",
              "    .colab-df-container {\n",
              "      display:flex;\n",
              "      flex-wrap:wrap;\n",
              "      gap: 12px;\n",
              "    }\n",
              "\n",
              "    .colab-df-convert {\n",
              "      background-color: #E8F0FE;\n",
              "      border: none;\n",
              "      border-radius: 50%;\n",
              "      cursor: pointer;\n",
              "      display: none;\n",
              "      fill: #1967D2;\n",
              "      height: 32px;\n",
              "      padding: 0 0 0 0;\n",
              "      width: 32px;\n",
              "    }\n",
              "\n",
              "    .colab-df-convert:hover {\n",
              "      background-color: #E2EBFA;\n",
              "      box-shadow: 0px 1px 2px rgba(60, 64, 67, 0.3), 0px 1px 3px 1px rgba(60, 64, 67, 0.15);\n",
              "      fill: #174EA6;\n",
              "    }\n",
              "\n",
              "    [theme=dark] .colab-df-convert {\n",
              "      background-color: #3B4455;\n",
              "      fill: #D2E3FC;\n",
              "    }\n",
              "\n",
              "    [theme=dark] .colab-df-convert:hover {\n",
              "      background-color: #434B5C;\n",
              "      box-shadow: 0px 1px 3px 1px rgba(0, 0, 0, 0.15);\n",
              "      filter: drop-shadow(0px 1px 2px rgba(0, 0, 0, 0.3));\n",
              "      fill: #FFFFFF;\n",
              "    }\n",
              "  </style>\n",
              "\n",
              "      <script>\n",
              "        const buttonEl =\n",
              "          document.querySelector('#df-6f29ab39-d967-4f0b-a7b3-1f6c5e3490d0 button.colab-df-convert');\n",
              "        buttonEl.style.display =\n",
              "          google.colab.kernel.accessAllowed ? 'block' : 'none';\n",
              "\n",
              "        async function convertToInteractive(key) {\n",
              "          const element = document.querySelector('#df-6f29ab39-d967-4f0b-a7b3-1f6c5e3490d0');\n",
              "          const dataTable =\n",
              "            await google.colab.kernel.invokeFunction('convertToInteractive',\n",
              "                                                     [key], {});\n",
              "          if (!dataTable) return;\n",
              "\n",
              "          const docLinkHtml = 'Like what you see? Visit the ' +\n",
              "            '<a target=\"_blank\" href=https://colab.research.google.com/notebooks/data_table.ipynb>data table notebook</a>'\n",
              "            + ' to learn more about interactive tables.';\n",
              "          element.innerHTML = '';\n",
              "          dataTable['output_type'] = 'display_data';\n",
              "          await google.colab.output.renderOutput(dataTable, element);\n",
              "          const docLink = document.createElement('div');\n",
              "          docLink.innerHTML = docLinkHtml;\n",
              "          element.appendChild(docLink);\n",
              "        }\n",
              "      </script>\n",
              "    </div>\n",
              "  </div>\n",
              "  "
            ]
          },
          "metadata": {},
          "execution_count": 37
        }
      ]
    },
    {
      "cell_type": "code",
      "source": [
        "y_train"
      ],
      "metadata": {
        "colab": {
          "base_uri": "https://localhost:8080/"
        },
        "id": "TKPuYDXV4HGV",
        "outputId": "37cac92c-df93-47ba-8fba-81b69b91aefc"
      },
      "execution_count": 38,
      "outputs": [
        {
          "output_type": "execute_result",
          "data": {
            "text/plain": [
              "26252    1\n",
              "33151    0\n",
              "5777     0\n",
              "40744    1\n",
              "15466    0\n",
              "        ..\n",
              "18641    0\n",
              "51283    0\n",
              "3192     0\n",
              "38789    0\n",
              "1013     1\n",
              "Name: COLLEGE CODE, Length: 7910, dtype: int64"
            ]
          },
          "metadata": {},
          "execution_count": 38
        }
      ]
    },
    {
      "cell_type": "code",
      "source": [
        "x_test"
      ],
      "metadata": {
        "colab": {
          "base_uri": "https://localhost:8080/",
          "height": 424
        },
        "id": "zFDQZpAf4JY3",
        "outputId": "8189f0ea-9e9b-4c4d-9847-538546c156a9"
      },
      "execution_count": 39,
      "outputs": [
        {
          "output_type": "execute_result",
          "data": {
            "text/plain": [
              "       COMMUNITY   RANK     COM.RANK  AGGR MARK\n",
              "44445          5   5590  5905.195401     191.00\n",
              "26282          3    555  5905.195401     194.00\n",
              "26151          3    226  5905.195401     196.00\n",
              "51645          1  15860  5905.195401     185.46\n",
              "438            5   1349   220.000000     197.25\n",
              "...          ...    ...          ...        ...\n",
              "19470          1   1088   657.000000     192.50\n",
              "63664          1    356  5905.195401     199.00\n",
              "26719          1   3512  5905.195401     189.50\n",
              "569            5   2193   382.000000     196.50\n",
              "32680          1  10767  5905.195401     177.00\n",
              "\n",
              "[1396 rows x 4 columns]"
            ],
            "text/html": [
              "\n",
              "  <div id=\"df-dfb89b14-6dea-499c-9796-3e9993061abb\">\n",
              "    <div class=\"colab-df-container\">\n",
              "      <div>\n",
              "<style scoped>\n",
              "    .dataframe tbody tr th:only-of-type {\n",
              "        vertical-align: middle;\n",
              "    }\n",
              "\n",
              "    .dataframe tbody tr th {\n",
              "        vertical-align: top;\n",
              "    }\n",
              "\n",
              "    .dataframe thead th {\n",
              "        text-align: right;\n",
              "    }\n",
              "</style>\n",
              "<table border=\"1\" class=\"dataframe\">\n",
              "  <thead>\n",
              "    <tr style=\"text-align: right;\">\n",
              "      <th></th>\n",
              "      <th>COMMUNITY</th>\n",
              "      <th>RANK</th>\n",
              "      <th>COM.RANK</th>\n",
              "      <th>AGGR MARK</th>\n",
              "    </tr>\n",
              "  </thead>\n",
              "  <tbody>\n",
              "    <tr>\n",
              "      <th>44445</th>\n",
              "      <td>5</td>\n",
              "      <td>5590</td>\n",
              "      <td>5905.195401</td>\n",
              "      <td>191.00</td>\n",
              "    </tr>\n",
              "    <tr>\n",
              "      <th>26282</th>\n",
              "      <td>3</td>\n",
              "      <td>555</td>\n",
              "      <td>5905.195401</td>\n",
              "      <td>194.00</td>\n",
              "    </tr>\n",
              "    <tr>\n",
              "      <th>26151</th>\n",
              "      <td>3</td>\n",
              "      <td>226</td>\n",
              "      <td>5905.195401</td>\n",
              "      <td>196.00</td>\n",
              "    </tr>\n",
              "    <tr>\n",
              "      <th>51645</th>\n",
              "      <td>1</td>\n",
              "      <td>15860</td>\n",
              "      <td>5905.195401</td>\n",
              "      <td>185.46</td>\n",
              "    </tr>\n",
              "    <tr>\n",
              "      <th>438</th>\n",
              "      <td>5</td>\n",
              "      <td>1349</td>\n",
              "      <td>220.000000</td>\n",
              "      <td>197.25</td>\n",
              "    </tr>\n",
              "    <tr>\n",
              "      <th>...</th>\n",
              "      <td>...</td>\n",
              "      <td>...</td>\n",
              "      <td>...</td>\n",
              "      <td>...</td>\n",
              "    </tr>\n",
              "    <tr>\n",
              "      <th>19470</th>\n",
              "      <td>1</td>\n",
              "      <td>1088</td>\n",
              "      <td>657.000000</td>\n",
              "      <td>192.50</td>\n",
              "    </tr>\n",
              "    <tr>\n",
              "      <th>63664</th>\n",
              "      <td>1</td>\n",
              "      <td>356</td>\n",
              "      <td>5905.195401</td>\n",
              "      <td>199.00</td>\n",
              "    </tr>\n",
              "    <tr>\n",
              "      <th>26719</th>\n",
              "      <td>1</td>\n",
              "      <td>3512</td>\n",
              "      <td>5905.195401</td>\n",
              "      <td>189.50</td>\n",
              "    </tr>\n",
              "    <tr>\n",
              "      <th>569</th>\n",
              "      <td>5</td>\n",
              "      <td>2193</td>\n",
              "      <td>382.000000</td>\n",
              "      <td>196.50</td>\n",
              "    </tr>\n",
              "    <tr>\n",
              "      <th>32680</th>\n",
              "      <td>1</td>\n",
              "      <td>10767</td>\n",
              "      <td>5905.195401</td>\n",
              "      <td>177.00</td>\n",
              "    </tr>\n",
              "  </tbody>\n",
              "</table>\n",
              "<p>1396 rows × 4 columns</p>\n",
              "</div>\n",
              "      <button class=\"colab-df-convert\" onclick=\"convertToInteractive('df-dfb89b14-6dea-499c-9796-3e9993061abb')\"\n",
              "              title=\"Convert this dataframe to an interactive table.\"\n",
              "              style=\"display:none;\">\n",
              "        \n",
              "  <svg xmlns=\"http://www.w3.org/2000/svg\" height=\"24px\"viewBox=\"0 0 24 24\"\n",
              "       width=\"24px\">\n",
              "    <path d=\"M0 0h24v24H0V0z\" fill=\"none\"/>\n",
              "    <path d=\"M18.56 5.44l.94 2.06.94-2.06 2.06-.94-2.06-.94-.94-2.06-.94 2.06-2.06.94zm-11 1L8.5 8.5l.94-2.06 2.06-.94-2.06-.94L8.5 2.5l-.94 2.06-2.06.94zm10 10l.94 2.06.94-2.06 2.06-.94-2.06-.94-.94-2.06-.94 2.06-2.06.94z\"/><path d=\"M17.41 7.96l-1.37-1.37c-.4-.4-.92-.59-1.43-.59-.52 0-1.04.2-1.43.59L10.3 9.45l-7.72 7.72c-.78.78-.78 2.05 0 2.83L4 21.41c.39.39.9.59 1.41.59.51 0 1.02-.2 1.41-.59l7.78-7.78 2.81-2.81c.8-.78.8-2.07 0-2.86zM5.41 20L4 18.59l7.72-7.72 1.47 1.35L5.41 20z\"/>\n",
              "  </svg>\n",
              "      </button>\n",
              "      \n",
              "  <style>\n",
              "    .colab-df-container {\n",
              "      display:flex;\n",
              "      flex-wrap:wrap;\n",
              "      gap: 12px;\n",
              "    }\n",
              "\n",
              "    .colab-df-convert {\n",
              "      background-color: #E8F0FE;\n",
              "      border: none;\n",
              "      border-radius: 50%;\n",
              "      cursor: pointer;\n",
              "      display: none;\n",
              "      fill: #1967D2;\n",
              "      height: 32px;\n",
              "      padding: 0 0 0 0;\n",
              "      width: 32px;\n",
              "    }\n",
              "\n",
              "    .colab-df-convert:hover {\n",
              "      background-color: #E2EBFA;\n",
              "      box-shadow: 0px 1px 2px rgba(60, 64, 67, 0.3), 0px 1px 3px 1px rgba(60, 64, 67, 0.15);\n",
              "      fill: #174EA6;\n",
              "    }\n",
              "\n",
              "    [theme=dark] .colab-df-convert {\n",
              "      background-color: #3B4455;\n",
              "      fill: #D2E3FC;\n",
              "    }\n",
              "\n",
              "    [theme=dark] .colab-df-convert:hover {\n",
              "      background-color: #434B5C;\n",
              "      box-shadow: 0px 1px 3px 1px rgba(0, 0, 0, 0.15);\n",
              "      filter: drop-shadow(0px 1px 2px rgba(0, 0, 0, 0.3));\n",
              "      fill: #FFFFFF;\n",
              "    }\n",
              "  </style>\n",
              "\n",
              "      <script>\n",
              "        const buttonEl =\n",
              "          document.querySelector('#df-dfb89b14-6dea-499c-9796-3e9993061abb button.colab-df-convert');\n",
              "        buttonEl.style.display =\n",
              "          google.colab.kernel.accessAllowed ? 'block' : 'none';\n",
              "\n",
              "        async function convertToInteractive(key) {\n",
              "          const element = document.querySelector('#df-dfb89b14-6dea-499c-9796-3e9993061abb');\n",
              "          const dataTable =\n",
              "            await google.colab.kernel.invokeFunction('convertToInteractive',\n",
              "                                                     [key], {});\n",
              "          if (!dataTable) return;\n",
              "\n",
              "          const docLinkHtml = 'Like what you see? Visit the ' +\n",
              "            '<a target=\"_blank\" href=https://colab.research.google.com/notebooks/data_table.ipynb>data table notebook</a>'\n",
              "            + ' to learn more about interactive tables.';\n",
              "          element.innerHTML = '';\n",
              "          dataTable['output_type'] = 'display_data';\n",
              "          await google.colab.output.renderOutput(dataTable, element);\n",
              "          const docLink = document.createElement('div');\n",
              "          docLink.innerHTML = docLinkHtml;\n",
              "          element.appendChild(docLink);\n",
              "        }\n",
              "      </script>\n",
              "    </div>\n",
              "  </div>\n",
              "  "
            ]
          },
          "metadata": {},
          "execution_count": 39
        }
      ]
    },
    {
      "cell_type": "code",
      "source": [
        "y_test"
      ],
      "metadata": {
        "colab": {
          "base_uri": "https://localhost:8080/"
        },
        "id": "XKhWz2PD4L6j",
        "outputId": "eb9fa48f-fe28-4aca-d0f4-6ee78e334992"
      },
      "execution_count": 40,
      "outputs": [
        {
          "output_type": "execute_result",
          "data": {
            "text/plain": [
              "44445    0\n",
              "26282    1\n",
              "26151    1\n",
              "51645    0\n",
              "438      1\n",
              "        ..\n",
              "19470    1\n",
              "63664    1\n",
              "26719    1\n",
              "569      1\n",
              "32680    0\n",
              "Name: COLLEGE CODE, Length: 1396, dtype: int64"
            ]
          },
          "metadata": {},
          "execution_count": 40
        }
      ]
    },
    {
      "cell_type": "code",
      "source": [
        "print(x_train.shape)\n",
        "print(x_test.shape)\n",
        "print(y_train.shape)\n",
        "print(y_test.shape)"
      ],
      "metadata": {
        "colab": {
          "base_uri": "https://localhost:8080/"
        },
        "id": "sRN9xFk--bl-",
        "outputId": "ef69769f-8a48-442f-ad8a-f999571a0342"
      },
      "execution_count": 64,
      "outputs": [
        {
          "output_type": "stream",
          "name": "stdout",
          "text": [
            "(7910, 4)\n",
            "(1396, 4)\n",
            "(7910,)\n",
            "(1396,)\n"
          ]
        }
      ]
    },
    {
      "cell_type": "code",
      "source": [
        "from sklearn.preprocessing import MinMaxScaler\n",
        "mms=MinMaxScaler()\n",
        "x_train[x_train.columns]=mms.fit_transform(x_train[x_train.columns].values)\n",
        "x_test[x_test.columns]=mms.transform(x_test[x_test.columns].values)"
      ],
      "metadata": {
        "id": "b2_KVPuz-dfF"
      },
      "execution_count": 65,
      "outputs": []
    },
    {
      "cell_type": "markdown",
      "source": [
        "##Model Building"
      ],
      "metadata": {
        "id": "6Z18JLj2-meP"
      }
    },
    {
      "cell_type": "code",
      "source": [
        "from sklearn.tree import DecisionTreeClassifier\n",
        "dt = DecisionTreeClassifier(random_state=0)\n",
        "dt.fit(x_train, y_train)\n",
        "dt_pred = dt.predict(x_test)\n",
        "print(dt_pred)"
      ],
      "metadata": {
        "colab": {
          "base_uri": "https://localhost:8080/"
        },
        "id": "l5U2wGuu-kU1",
        "outputId": "8fc20eb3-45b3-4b84-fc34-1c806dc5db35"
      },
      "execution_count": 66,
      "outputs": [
        {
          "output_type": "stream",
          "name": "stdout",
          "text": [
            "[1 1 1 ... 0 1 1]\n"
          ]
        }
      ]
    },
    {
      "cell_type": "code",
      "source": [
        "print(y_test)"
      ],
      "metadata": {
        "colab": {
          "base_uri": "https://localhost:8080/"
        },
        "id": "9cirwQGO-2CQ",
        "outputId": "9cf911ba-921d-4c02-d79c-f755f932857f"
      },
      "execution_count": 67,
      "outputs": [
        {
          "output_type": "stream",
          "name": "stdout",
          "text": [
            "44445    0\n",
            "26282    1\n",
            "26151    1\n",
            "51645    0\n",
            "438      1\n",
            "        ..\n",
            "19470    1\n",
            "63664    1\n",
            "26719    1\n",
            "569      1\n",
            "32680    0\n",
            "Name: COLLEGE CODE, Length: 1396, dtype: int64\n"
          ]
        }
      ]
    },
    {
      "cell_type": "markdown",
      "source": [
        "##Evaluation"
      ],
      "metadata": {
        "id": "ee6QNrfj-60V"
      }
    },
    {
      "cell_type": "code",
      "source": [
        "from sklearn.metrics import accuracy_score\n",
        "print(\"Accuracy of Decision Tree Classifier: \", accuracy_score(y_test, dt_pred))"
      ],
      "metadata": {
        "colab": {
          "base_uri": "https://localhost:8080/"
        },
        "id": "hfLuzalq-4Cc",
        "outputId": "978da9f1-6273-4a2d-dee5-15b64f3a2225"
      },
      "execution_count": 68,
      "outputs": [
        {
          "output_type": "stream",
          "name": "stdout",
          "text": [
            "Accuracy of Decision Tree Classifier:  0.7313753581661891\n"
          ]
        }
      ]
    },
    {
      "cell_type": "markdown",
      "source": [
        "##Saving the Model"
      ],
      "metadata": {
        "id": "qE-TxA2p_FfD"
      }
    },
    {
      "cell_type": "code",
      "source": [
        "import pickle\n",
        "pickle.dump(dt,open('model.pkl','wb'))"
      ],
      "metadata": {
        "id": "75E1agnY_DNQ"
      },
      "execution_count": 69,
      "outputs": []
    },
    {
      "cell_type": "code",
      "source": [],
      "metadata": {
        "id": "2TZ_J2Ix_NW_"
      },
      "execution_count": null,
      "outputs": []
    }
  ]
}